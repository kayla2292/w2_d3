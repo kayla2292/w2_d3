{
 "cells": [
  {
   "cell_type": "markdown",
   "metadata": {},
   "source": [
    "# Dictionaries, Sets, & Importing Modules"
   ]
  },
  {
   "cell_type": "markdown",
   "metadata": {},
   "source": [
    "## Tasks Today:\n",
    "\n",
    "1) Dictionary <br>\n",
    " &nbsp;&nbsp;&nbsp;&nbsp; a) Declaring (key, value) <br>\n",
    " &nbsp;&nbsp;&nbsp;&nbsp; b) Accessing Values <br>\n",
    " &nbsp;&nbsp;&nbsp;&nbsp; ------ Exercise #1 - Print the eye color of each person in a double nested dict <br>\n",
    " &nbsp;&nbsp;&nbsp;&nbsp; c) Adding New Pairs <br>\n",
    " &nbsp;&nbsp;&nbsp;&nbsp; d) Modifying Values <br>\n",
    " &nbsp;&nbsp;&nbsp;&nbsp; e) Removing Key, Value Pairs <br>\n",
    " &nbsp;&nbsp;&nbsp;&nbsp; f) Looping a Dictionary <br>\n",
    " &nbsp;&nbsp;&nbsp;&nbsp; g) Looping Only Keys <br>\n",
    " &nbsp;&nbsp;&nbsp;&nbsp; h) Looping Only Values <br>\n",
    " &nbsp;&nbsp;&nbsp;&nbsp; ------ Exercise #2 - Create a Function that Prints All Key Value Pairs within a print .format()  <br>\n",
    " &nbsp;&nbsp;&nbsp;&nbsp; i) sorted() <br>\n",
    " &nbsp;&nbsp;&nbsp;&nbsp; j) Lists with Dictionaries <br>\n",
    " &nbsp;&nbsp;&nbsp;&nbsp; k) Dictionaries with Lists <br>\n",
    " &nbsp;&nbsp;&nbsp;&nbsp; l) Dictionaries with Dictionaries <br>\n",
    " &nbsp;&nbsp;&nbsp;&nbsp; ------ Exercise #3 - Write a Function that asks someone's name and address, and then stores that into a dictionary, which prints all names and addresses after they're done putting information in...  <br>\n",
    "2) Dictionaries vs. Lists (over time)<br>\n",
    "3) Set <br>\n",
    " &nbsp;&nbsp;&nbsp;&nbsp; a) Declaring <br>\n",
    " &nbsp;&nbsp;&nbsp;&nbsp; b) .add() <br>\n",
    " &nbsp;&nbsp;&nbsp;&nbsp; c) .remove() <br>\n",
    " &nbsp;&nbsp;&nbsp;&nbsp; d) .union() <br>\n",
    " &nbsp;&nbsp;&nbsp;&nbsp; e) .intersection() <br>\n",
    " &nbsp;&nbsp;&nbsp;&nbsp; f) .difference() <br>\n",
    " &nbsp;&nbsp;&nbsp;&nbsp; g) Frozen Set <br>\n",
    "4) Modules <br>\n",
    " &nbsp;&nbsp;&nbsp;&nbsp; a) Importing Entire Modules <br>\n",
    " &nbsp;&nbsp;&nbsp;&nbsp; b) Importing Methods Only <br>\n",
    " &nbsp;&nbsp;&nbsp;&nbsp; c) Using the 'as' Keyword <br>\n",
    " &nbsp;&nbsp;&nbsp;&nbsp; d) Creating a Module <br>\n",
    "5) Exercises <br>\n",
    " &nbsp;&nbsp;&nbsp;&nbsp; a) Build a Shopping Cart <br>\n",
    " &nbsp;&nbsp;&nbsp;&nbsp; b) Create Your Own Module <br>"
   ]
  },
  {
   "cell_type": "markdown",
   "metadata": {},
   "source": [
    "## Dictionary <br>\n",
    "<p>A collection of data with 'key:value' pairs. Dictionaries are ordered as of Python 3.6</p>"
   ]
  },
  {
   "cell_type": "markdown",
   "metadata": {},
   "source": [
    "##### Declaring (key, value)"
   ]
  },
  {
   "cell_type": "code",
   "execution_count": 4,
   "metadata": {},
   "outputs": [
    {
     "name": "stdout",
     "output_type": "stream",
     "text": [
      "{}\n",
      "{'Tom': '255 Main Street', 'Jerry': '256 Main Street', 0: 'This is a value of 0 for the key 0'}\n"
     ]
    }
   ],
   "source": [
    "# keys should be unique\n",
    "# can use numbers or strings as keys\n",
    "d_1 = {} #create empty dict\n",
    "\n",
    "# or \n",
    "\n",
    "d_2 = dict() #built in python funct (create empty dict)\n",
    "print(d_2)\n",
    "\n",
    "# or\n",
    "\n",
    "d_3 = {\n",
    "    \"Tom\": \"255 Main Street\",\n",
    "    \"Jerry\": \"256 Main Street\",\n",
    "    0: \"This is a value of 0 for the key 0\"\n",
    "}\n",
    "\n",
    "print(d_3)\n"
   ]
  },
  {
   "cell_type": "markdown",
   "metadata": {},
   "source": [
    "##### Accessing Values"
   ]
  },
  {
   "cell_type": "code",
   "execution_count": 15,
   "metadata": {},
   "outputs": [
    {
     "name": "stdout",
     "output_type": "stream",
     "text": [
      "256 Main Street\n",
      "255 Main Street\n",
      "This is a value of 0 for the key 0\n"
     ]
    }
   ],
   "source": [
    "# dict[key]\n",
    "\n",
    "d_3 = {\n",
    "    \"Tom\": \"255 Main Street\",\n",
    "    \"Jerry\": \"256 Main Street\",\n",
    "    0: \"This is a value of 0 for the key 0\"\n",
    "}\n",
    "\n",
    "print(d_3[\"Jerry\"])\n",
    "print(d_3[\"Tom\"])\n",
    "print(d_3[0])\n",
    "\n",
    "\n"
   ]
  },
  {
   "cell_type": "markdown",
   "metadata": {},
   "source": [
    "## In-Class Exercise #1 - Print a formatted statement from the dictionary below <br>\n",
    "<p>The output should be '2018 Chevrolet Silverado'</p>"
   ]
  },
  {
   "cell_type": "code",
   "execution_count": 5,
   "metadata": {},
   "outputs": [
    {
     "name": "stdout",
     "output_type": "stream",
     "text": [
      "2022 Chevrolet Silverado\n",
      "This is a 2022 Chevrolet Silverado\n"
     ]
    }
   ],
   "source": [
    "# use the dict below\n",
    "truck = {\n",
    "    \"year\": 2022,\n",
    "    'make': 'Chevrolet',\n",
    "    'model': 'Silverado'\n",
    "}\n",
    "\n",
    "print(truck['year'], truck['make'], truck['model'])\n",
    "\n",
    "print(f\"This is a {truck['year']} {truck['make']} {truck['model']}\")"
   ]
  },
  {
   "cell_type": "markdown",
   "metadata": {},
   "source": [
    "##### Adding New Pairs"
   ]
  },
  {
   "cell_type": "code",
   "execution_count": 16,
   "metadata": {},
   "outputs": [
    {
     "name": "stdout",
     "output_type": "stream",
     "text": [
      "{'Tom': '255 Main Street', 'Jerry': '256 Main Street', 0: 'This is a value of 0 for the key 0', 'spike': '123 main street'}\n"
     ]
    }
   ],
   "source": [
    "# dict[key] = value\n",
    "\n",
    "truck = {\n",
    "    \"year\": 2022,\n",
    "    'make': 'Chevrolet',\n",
    "    'model': 'Silverado'\n",
    "}\n",
    "\n",
    "d_3['spike'] = \"123 main street\"\n",
    "\n",
    "print(d_3)"
   ]
  },
  {
   "cell_type": "markdown",
   "metadata": {},
   "source": [
    "##### Modifying Values"
   ]
  },
  {
   "cell_type": "code",
   "execution_count": 17,
   "metadata": {},
   "outputs": [
    {
     "data": {
      "text/plain": [
       "{'Tom': '255 Main Street',\n",
       " 'Jerry': '256 Main Street',\n",
       " 0: 'This is a value of 0 for the key 0',\n",
       " 'spike': '258 Main street 60607',\n",
       " 'tike': '258 Main Street'}"
      ]
     },
     "execution_count": 17,
     "metadata": {},
     "output_type": "execute_result"
    }
   ],
   "source": [
    "# dict[key] = value\n",
    "placeholder = d_3['spike']\n",
    "\n",
    "d_3['spike'] = '258 Main street'\n",
    "d_3['tike'] = '258 Main Street'\n",
    "\n",
    "d_3['spike'] = d_3['spike']+ \" 60607\"\n",
    "\n",
    "d_3"
   ]
  },
  {
   "cell_type": "code",
   "execution_count": 11,
   "metadata": {},
   "outputs": [
    {
     "name": "stdout",
     "output_type": "stream",
     "text": [
      "{2: 1}\n",
      "{2: 1, 5: 1}\n",
      "{2: 1, 5: 1, 7: 1}\n",
      "{2: 1, 5: 1, 7: 1, 3: 1}\n",
      "{2: 1, 5: 1, 7: 1, 3: 1, 8: 1}\n",
      "{2: 1, 5: 1, 7: 1, 3: 1, 8: 1}\n",
      "{2: 1, 5: 1, 7: 1, 3: 1, 8: 1}\n",
      "{2: 1, 5: 1, 7: 1, 3: 1, 8: 1}\n"
     ]
    }
   ],
   "source": [
    "my_list = [2, 5, 7, 3, 8, 3, 7, 7, ]\n",
    "my_dict = {}\n",
    "for num in my_list:\n",
    "    if num not in my_dict:\n",
    "        my_dict[num] = 1\n",
    "        print(my_dict)\n",
    "    else:\n",
    "            my_dict[num] +- 1\n",
    "            print(my_dict)"
   ]
  },
  {
   "cell_type": "markdown",
   "metadata": {},
   "source": [
    "##### Removing Key, Value Pairs"
   ]
  },
  {
   "cell_type": "code",
   "execution_count": 18,
   "metadata": {},
   "outputs": [
    {
     "name": "stdout",
     "output_type": "stream",
     "text": [
      "{'Tom': '255 Main Street', 'Jerry': '256 Main Street', 0: 'This is a value of 0 for the key 0', 'spike': '258 Main street 60607', 'tike': '258 Main Street'}\n",
      "{'Tom': '255 Main Street', 'Jerry': '256 Main Street', 'spike': '258 Main street 60607', 'tike': '258 Main Street'}\n"
     ]
    }
   ],
   "source": [
    "# del dict[key]\n",
    "\n",
    "# del d_3[0] diff b/w list del and dict del: list del (wraps the list in par)\n",
    "\n",
    "print(d_3)\n",
    "\n",
    "del d_3[0]\n",
    "\n",
    "print(d_3)"
   ]
  },
  {
   "cell_type": "markdown",
   "metadata": {},
   "source": [
    "##### Looping a Dictionary"
   ]
  },
  {
   "cell_type": "code",
   "execution_count": 21,
   "metadata": {},
   "outputs": [
    {
     "name": "stdout",
     "output_type": "stream",
     "text": [
      "Tom   255 Main Street\n",
      " Tom lives at 255 Main Street\n",
      "Jerry   256 Main Street\n",
      " Jerry lives at 256 Main Street\n",
      "spike   258 Main street 60607\n",
      " spike lives at 258 Main street 60607\n",
      "tike   258 Main Street\n",
      " tike lives at 258 Main Street\n"
     ]
    }
   ],
   "source": [
    "# .items()\n",
    "# a, b, c = 1, 2, 3\n",
    "\n",
    "for name,address in d_3.items():\n",
    "    print(name, \" \", address)\n",
    "    print(f\" {name} lives at {address}\")"
   ]
  },
  {
   "cell_type": "markdown",
   "metadata": {},
   "source": [
    "##### Looping Only Keys"
   ]
  },
  {
   "cell_type": "code",
   "execution_count": 23,
   "metadata": {},
   "outputs": [
    {
     "name": "stdout",
     "output_type": "stream",
     "text": [
      "Tom\n",
      "Jerry\n",
      "spike\n",
      "tike\n"
     ]
    }
   ],
   "source": [
    "# .keys()\n",
    "for key in d_3.keys():\n",
    "    print(key)\n",
    "    \n",
    "for name in d_3.keys():\n",
    "    print(name)"
   ]
  },
  {
   "cell_type": "markdown",
   "metadata": {},
   "source": [
    "##### Looping Only Values"
   ]
  },
  {
   "cell_type": "code",
   "execution_count": 24,
   "metadata": {},
   "outputs": [
    {
     "name": "stdout",
     "output_type": "stream",
     "text": [
      "['255 Main Street', '256 Main Street', '258 Main street 60607', '258 Main Street']\n",
      "255 Main Street\n",
      "256 Main Street\n",
      "258 Main street 60607\n",
      "258 Main Street\n"
     ]
    }
   ],
   "source": [
    "# .values()\n",
    "value_list = [val for val in d_3.values()]\n",
    "# for value in d_3.values():\n",
    "#     value_list.append(value)\n",
    "print(value_list)\n",
    "\n",
    "for values in d_3.values():\n",
    "    print(values)\n",
    "    \n",
    "#for values in d_3.values():\n",
    "    #if address == '254 Main Stree':\n",
    "        #print('Tom lives here')\n",
    "    #elif address == \"258 Main Street\":\n",
    "        #my_dict['Spike'] = my_dict['Spike'] + '60618'\n",
    "        #print(d_e['Spike'])\n",
    "    #else:\n",
    "        #print(address)"
   ]
  },
  {
   "cell_type": "code",
   "execution_count": null,
   "metadata": {
    "scrolled": false
   },
   "outputs": [],
   "source": []
  },
  {
   "cell_type": "code",
   "execution_count": 9,
   "metadata": {
    "scrolled": true
   },
   "outputs": [],
   "source": [
    "# .values()\n"
   ]
  },
  {
   "cell_type": "markdown",
   "metadata": {},
   "source": [
    "## In-Class Exercise #2 - Create a Function that Prints All Key Value Pairs within a print .format() <br>\n",
    "<p><b>Output should be:</b><br>\n",
    "Max has blue eyes<br>\n",
    "Lilly has brown eyes<br>\n",
    "Barney has blue eyes<br>\n",
    "etc.\n",
    "</p>"
   ]
  },
  {
   "cell_type": "code",
   "execution_count": 29,
   "metadata": {},
   "outputs": [
    {
     "ename": "SyntaxError",
     "evalue": "invalid syntax (3941547259.py, line 12)",
     "output_type": "error",
     "traceback": [
      "\u001b[1;36m  File \u001b[1;32m\"C:\\Users\\kayla\\AppData\\Local\\Temp\\ipykernel_10044\\3941547259.py\"\u001b[1;36m, line \u001b[1;32m12\u001b[0m\n\u001b[1;33m    def person, eye_color():\u001b[0m\n\u001b[1;37m              ^\u001b[0m\n\u001b[1;31mSyntaxError\u001b[0m\u001b[1;31m:\u001b[0m invalid syntax\n"
     ]
    }
   ],
   "source": [
    "# use the dict below\n",
    "\n",
    "people = {\n",
    "    'Max': 'blue',\n",
    "    'Lilly': 'brown',\n",
    "    'Barney': 'blue',\n",
    "    'Ted': 'purple',\n",
    "    'Saske': 'sharingan'\n",
    "}\n",
    "#f\"This is a {truck['year']} {truck['make']} {truck['model']}\"\n",
    "\n",
    "def person, eye_color():\n",
    "    for key, value in people.items():\n",
    "        print(f\"{key} has {value} eyes\")\n",
    "\n",
    "for person, eye_color in people.items():\n",
    "    print(f\"{person} has {eye_color} eyes!\")\n",
    "        \n",
    "\n",
    "#def people_eyes():\n",
    "    #for key, value in people.items():\n",
    "        #print(key + \" has \" + value + \" eyes \")\n",
    "    "
   ]
  },
  {
   "cell_type": "markdown",
   "metadata": {},
   "source": [
    "##### sorted()"
   ]
  },
  {
   "cell_type": "code",
   "execution_count": 32,
   "metadata": {},
   "outputs": [
    {
     "name": "stdout",
     "output_type": "stream",
     "text": [
      "['Barney', 'Lilly', 'Max', 'Saske', 'Ted']\n",
      "['blue', 'blue', 'brown', 'purple', 'sharingan']\n",
      "[('Barney', 'blue'), ('Lilly', 'brown'), ('Max', 'blue'), ('Saske', 'sharingan'), ('Ted', 'purple')]\n",
      "Key, Value Pairs [('Barney', 'blue'), ('Lilly', 'brown'), ('Max', 'blue'), ('Saske', 'sharingan'), ('Ted', 'purple')]\n",
      "Lilly\n"
     ]
    }
   ],
   "source": [
    "# sorts variables in order\n",
    "# sorted(dict.values()) or dict.keys() or dict.items()\n",
    "\n",
    "print(sorted(people.keys()))\n",
    "print(sorted(people.values()))\n",
    "print(sorted(people.items()))\n",
    "print(\"Key, Value Pairs\", sorted(people.items()))\n",
    "\n",
    "print(sorted(people.items())[1][0])"
   ]
  },
  {
   "cell_type": "markdown",
   "metadata": {},
   "source": [
    "##### List with Dictionaries"
   ]
  },
  {
   "cell_type": "code",
   "execution_count": 34,
   "metadata": {},
   "outputs": [
    {
     "name": "stdout",
     "output_type": "stream",
     "text": [
      "Rob\n",
      "random_girl\n",
      "random_guy\n",
      "Gaara\n",
      "{'leaf_village': 'Naruto', 'leaf_village2': 'Kakashi'}\n",
      "Kakashi\n"
     ]
    }
   ],
   "source": [
    "names = [\"Dave\",\"Sandy\",\"Tony\",{\"random_girl\":\"Barb\",\"random_guy\":\"Rob\"}]\n",
    "\n",
    "print(names[3][\"random_guy\"])\n",
    "\n",
    "for key in names[3].keys():\n",
    "    print(key)\n",
    "    \n",
    "shinobi = ['Shikamaru', 'Gaara', 'OctoPops', {'leaf_village': 'Naruto', 'leaf_village2': 'Kakashi'}]\n",
    "print(shinobi[1])\n",
    "print(shinobi[3])\n",
    "print(shinobi[3]['leaf_village2'])\n"
   ]
  },
  {
   "cell_type": "code",
   "execution_count": 39,
   "metadata": {},
   "outputs": [
    {
     "name": "stdout",
     "output_type": "stream",
     "text": [
      "['Dave', 'Sandy', 'Tony', {'random_person': 'Barb', 'random_person2': 'Bart'}, 'Ryan']\n",
      "Tony\n",
      "Ryan\n",
      "Bart\n",
      "dict_keys(['random_person', 'random_person2'])\n",
      "random_person\n",
      "random_person2\n",
      "Barb\n"
     ]
    }
   ],
   "source": [
    "names = ['Dave', 'Sandy', 'Tony', {'random_person': 'Barb', 'random_person2': 'Bart'}, 'Ryan']\n",
    "\n",
    "print(names)\n",
    "print(names[2])\n",
    "print(names[-1])\n",
    "print(names[3]['random_person2'])\n",
    "print(names[3].keys())\n",
    "for person in names[3].keys():\n",
    "    print(person)\n",
    "    \n",
    "print(names[3].get('random_person'))"
   ]
  },
  {
   "cell_type": "code",
   "execution_count": 36,
   "metadata": {},
   "outputs": [
    {
     "data": {
      "text/plain": [
       "['Hank', 'Sally', ['person_1', 'person_2', 'person_3', 'per_4']]"
      ]
     },
     "execution_count": 36,
     "metadata": {},
     "output_type": "execute_result"
    }
   ],
   "source": [
    "others = [\"Hank\",\"Sally\", [\"person_1\",\"person_2\",\"person_3\"]]\n",
    "others[2].append('per_4')\n",
    "others\n",
    "\n"
   ]
  },
  {
   "cell_type": "markdown",
   "metadata": {},
   "source": [
    "##### Dictionaries with Lists"
   ]
  },
  {
   "cell_type": "code",
   "execution_count": 41,
   "metadata": {},
   "outputs": [
    {
     "name": "stdout",
     "output_type": "stream",
     "text": [
      "54\n",
      "65\n",
      "90\n",
      "54\n"
     ]
    },
    {
     "ename": "KeyError",
     "evalue": "'names'",
     "output_type": "error",
     "traceback": [
      "\u001b[1;31m---------------------------------------------------------------------------\u001b[0m",
      "\u001b[1;31mKeyError\u001b[0m                                  Traceback (most recent call last)",
      "\u001b[1;32m~\\AppData\\Local\\Temp\\ipykernel_10044\\3751414534.py\u001b[0m in \u001b[0;36m<module>\u001b[1;34m\u001b[0m\n\u001b[0;32m     17\u001b[0m \u001b[0mprint\u001b[0m\u001b[1;33m(\u001b[0m\u001b[0mrandom_data\u001b[0m\u001b[1;33m[\u001b[0m\u001b[1;34m'list_1'\u001b[0m\u001b[1;33m]\u001b[0m\u001b[1;33m[\u001b[0m\u001b[1;36m0\u001b[0m\u001b[1;33m]\u001b[0m\u001b[1;33m)\u001b[0m\u001b[1;33m\u001b[0m\u001b[1;33m\u001b[0m\u001b[0m\n\u001b[0;32m     18\u001b[0m \u001b[1;33m\u001b[0m\u001b[0m\n\u001b[1;32m---> 19\u001b[1;33m \u001b[1;32mfor\u001b[0m \u001b[0mname\u001b[0m \u001b[1;32min\u001b[0m \u001b[0mrandom_data\u001b[0m\u001b[1;33m[\u001b[0m\u001b[1;34m'names'\u001b[0m\u001b[1;33m]\u001b[0m\u001b[1;33m:\u001b[0m\u001b[1;33m\u001b[0m\u001b[1;33m\u001b[0m\u001b[0m\n\u001b[0m\u001b[0;32m     20\u001b[0m     \u001b[0mprint\u001b[0m\u001b[1;33m(\u001b[0m\u001b[0mname\u001b[0m\u001b[1;33m)\u001b[0m\u001b[1;33m\u001b[0m\u001b[1;33m\u001b[0m\u001b[0m\n",
      "\u001b[1;31mKeyError\u001b[0m: 'names'"
     ]
    }
   ],
   "source": [
    "# be careful when using numbers as keys in dictionaries, don't confuse them with indexes\n",
    "\n",
    "random_data = {\n",
    "    'list_1': [54,65,90],\n",
    "    \"2\":['Johnson']\n",
    "}\n",
    "\n",
    "random_data[\"2\"][0]\n",
    "for val in random_data['list_1']:\n",
    "    print(val)\n",
    "    \n",
    "random_data = {\n",
    "    'list_1': [54,65,90],\n",
    "    \"2names\":['John\", \"Laura\", \"Bulbasaur']\n",
    "}\n",
    "\n",
    "print(random_data['list_1'][0])\n",
    "\n",
    "for name in random_data['names']:\n",
    "    print(name)\n"
   ]
  },
  {
   "cell_type": "markdown",
   "metadata": {},
   "source": [
    "##### Dictionaries with Dictionaries"
   ]
  },
  {
   "cell_type": "code",
   "execution_count": 3,
   "metadata": {},
   "outputs": [],
   "source": [
    "# to get values, must traverse through keys\n",
    "\n",
    "# Print out a statement that says \"Ryan's\" favorite deserts are pie, ice cream, and cookies\n",
    "# Show us everyone's favorite food groups\n",
    "# show us all of the favorite food items.\n",
    "\n",
    "# food_dict = {\n",
    "#     \"Terrell\": {\n",
    "#         \"Latin\": [\"Tacos\",'Arepa','Empanadas'],\n",
    "#         \"noodles\": [\"instant\",'Pho','Ramen']\n",
    "#     },\n",
    "#     \"Matt\":{\n",
    "#         \"Breakfast\": [\"Waffles\", \"Pancakes\"],\n",
    "#         \"Lunch/dinner\":[\"Pizza\", \"Steak\", \"Cheeseburgers\"]\n",
    "#     },\n",
    "#     \"Kevin\":{\n",
    "#         \"Latin\": [\"Tacos\", \"Burritos\", \"Flautas\"],\n",
    "#         \"Pizza\": [\"Deep Dish\", \"Thin Crust\", \"Detroit\"],\n",
    "#     },\n",
    "#     \"Alex\": {\n",
    "#         \"French\": [\"French fries\", 'French snails', 'French toast'],\n",
    "#         \"burritos\": [\"chicken\", 'steak', 'Non GMO']\n",
    "#     },\n",
    "#     \"Chris\": {\n",
    "#         \"Latin\": ['burrito', 'tacos'],\n",
    "#         \"asian\": ['pho', 'ramen', 'dumplings']\n",
    "#     },\n",
    "#     'Thomas': {\n",
    "#         'pizza': ['cheese', 'meatza', 'bbq'],\n",
    "#         'noodles': ['ramen', 'angel hair']\n",
    "#     },\n",
    "#     \"Ryan\": {\n",
    "#         \"Latin\": [\"Tacos\",'Tacos','Tacos'],\n",
    "#         \"Desserts\": [\"pie\",'ice cream','cookies']\n",
    "#     },\n",
    "#     \"TwoChe\": {\n",
    "#         \"Fruit\": [\"Apple\",'Pomegranate ','Orange'],\n",
    "#         \"Japan\": [\"Sushi\",\"Poke\",\"Ramen\"]\n",
    "#     },\n",
    "#     \"Ulises\": {\n",
    "#             \"Latin\": [\"Tacos\",\"Arepa\",\"Empanadas\"],\n",
    "#             \"Italian\": [\"Ravioli\",\"Milanesas\",\"Scaccia\"],\n",
    "#             \"Noodles\":[\"Udon\",\"Pho\",\"Soba\",\"Hakka\"]\n",
    "#     },\n",
    "#     \"Harley\":{\n",
    "#         \"Layne\":[\"Pizza\", \"Taco\", \"Burger\"],\n",
    "#         \"potato\": [\"French\", \"Fried\", \"Mashed\"]\n",
    "#     },\n",
    "#     'Kimbreal': {\n",
    "#         'Cookies':['sugar','oatmeal','chocalate_chip'],\n",
    "#         'seafood':['crab legs','shrimp','salmon']\n",
    "#     },\n",
    "#     \"Yesenia\": {\n",
    "#         \"Latin\": [\"Tacos\", \"Chiles Rellenos\", \"Pipian\"],\n",
    "#         \"Asain\": [\"Ramen\"],\n",
    "#         \"American\": [\"Pizza\", \"Broccoli Cheddar\", \"Hamburgers\"]\n",
    "#     },\n",
    "#     \"Alex\": {\n",
    "#         \"lunch\": [\"Tacos\",'omelet','burgers'],\n",
    "#         \"dinner\": [\"cheese\",'magnets','milksteak']\n",
    "#     },\n",
    "#     \"Elijah\":{\n",
    "#         \"Fast Food\": [\"Canes\",\"Firehouse\",\"Chick-fil-a\"],\n",
    "#         \"Pizza\": [\"Pepperoni\",\"Sausage\",\"Bacon\"]\n",
    "        \n",
    "#     },\n",
    "#     \"Vincent\": {\n",
    "#         \"Latin\": [\"Tacos\", \"Burrito\", \"Queso\"], \n",
    "#         \"Asian\": [\"Fried Rice\", \"Sushi\", \"Hot Pot\"],\n",
    "#         \"Noodles\": [\"Pho\", \"Ramen\", \"Instant\"]\n",
    "#     },\n",
    "# }\n",
    "\n",
    "#  food_dict = {\n",
    "#     'Ryan': \n",
    "#         'Mexican': ['Tacos', 'Tortas', 'Arroz'],\n",
    "#         'Desserts': ['Cheesecake', 'Cupcakes', 'Pie', 'Cookies']\n",
    "# }\n",
    "#     'Kayla':\n",
    "#         'Asian': ['Ramen', 'Bulgogi', 'HotPot']\n",
    "#         'Desserts': ['Chocolate', 'WaterGateSalad', 'Icecream']\n",
    "\n",
    "# to get values, must traverse through keys\n",
    "food_dict = {\n",
    "    \"Ryan\": {\n",
    "        \"Mexican\": [\"Tacos\", \"Tortas\", \"Arroz\"],\n",
    "        \"Desserts\": [\"Cheesecake\", \"Cupcakes\", \"Pie\", \"Cookies\"]\n",
    "    },\n",
    "    \"James\": {\n",
    "        \"Main Course\": [\"Meatloaf\", \"Beef Stroganoff\", \"Chicken Stuffing Broccoli Casserole\"],\n",
    "        \"Desserts\": [\"Crumb Nutty Pie\", \"Moon Pie\", \"Pink Salad\"]\n",
    "    },\n",
    "    \"Nate\": {\n",
    "        \"favorite_dinner\": ['Hibachi', 'Mexican', 'Italian'],\n",
    "        \"favorite_dessert\": ['Pazooki', 'Red Velvet Cake', \"Pumpkin Pie\" ]\n",
    "    },\n",
    "    \"Tenzin\": {\n",
    "        \"Indian\": [\"Dumplings\",\"Naan\",\"Tandoori\"],\n",
    "        \"Mexican\": [\"Nachos\", \"Empanadas\",\"Burrito\"]\n",
    "    },\n",
    "    \"Dylan\" : {\n",
    "        \"Sushi\" : [\"Fatty Tuna\", \"Unagi\", \"Crab Roll\"],\n",
    "        \"Soup\" : [\"Miso\", \"Potato\", \"Wonton\"] \n",
    "    },\n",
    "    \"Jeong\": {\n",
    "        \"Japanese\": [\"Sushi\", \"Katsu\", \"Ramen\"],\n",
    "        \"Korean\": [\"KBBQ\", \"Stew\", \"Porridge\", \"K-Chicken\"],\n",
    "        \"Deserts\": [\"Bouncy Cheesecake\", \"Ice Cream\"]\n",
    "    },\n",
    "    \"John\": {\n",
    "        \"Japanese\": [\"Sushi\", \"Takoyaki\", \"Ramen\"],\n",
    "        \"American\": [\"Cheeseburger\", \"Crabcake\"],\n",
    "        \"Desserts\": [\"Pie\", \"Ice Cream\"]\n",
    "    },\n",
    "    \"Mike\": {        \n",
    "        \"Indian\": [\"Curry\", \"Tikka\", \"Chana\"],\n",
    "        \"Desserts\":[\"Applepie\", \"Pecanpie\", \"Carrotcake\"]       \n",
    "        \n",
    "    },\n",
    "    \"Sam\": {\n",
    "        \"Meals\": [\"Pizza\", \"Wendy's 4 for 4\", \"Pasta\", \"Hoagies\"],\n",
    "        \"Veggies\": [\"cucumbers\", \"avocados\", \"tomatoes\", \"carrots\"]\n",
    "    },\n",
    "    \n",
    "    'Kayla':{\n",
    "        'Asian': ['Ramen', 'Bulgogi', 'HotPot'],\n",
    "        'Desserts': ['Chocolate', 'WaterGateSalad', 'Icecream']\n",
    "    }\n",
    "    ,\n",
    "    \"Austin\": {\n",
    "         \"Mexican\":[\"Ceviche\",\"Shrimp Chimichanga\"],\n",
    "         \"Fast Food\": [\"Chipolte\", \"Chic-Fil-a\"],\n",
    "         \"Japanese\": [\"Nigri\", \"Sashimi(Eel)\"]\n",
    "    },\n",
    "    \"Mohammad\": {\n",
    "        \"Food\":[\"Pasta\", \"Fried Chicken\" , \"Tacos\"],\n",
    "        \"Desserts\":[\"Chocolate Cake\" ,\"Ice Cream\"]\n",
    "    },\n",
    "    \"Alex\": {\n",
    "        \"Hispanic\" : ['tacos', 'pupusas', 'tomales'],\n",
    "        'Desserts': ['cheesecake','ice cream', 'tarimasu'],\n",
    "        'Cajun': ['gumbo','poboy','jambalaya']\n",
    "    }\n",
    "        \n",
    "\n",
    "}\n",
    "\n",
    "#print(food_dict)\n",
    "\n",
    "# dessert_string = \"Ryan's fav desserts are: \"\n",
    "# for dessert in food_dict['Ryan']['Desserts']:\n",
    "#         dessert_string +- dessert + \", \"\n",
    "    \n",
    "# print(dessert_string)\n",
    "    \n",
    "# for name in food_dict.keys():\n",
    "#     for genre in food_dict[name.keys()]:\n",
    "#         print(genre)\n",
    "\n",
    "# print (\"\\nHere are all foods listed: \\n\")\n",
    "# for name in food.dict.keys():\n",
    "#     print(f\"\\n{name}'s favorite foods are: \")\n",
    "#     for food_type in food_dict[name].keys():\n",
    "#         for food in food_dict[name][food_type]:\n",
    "#             print(food)"
   ]
  },
  {
   "cell_type": "code",
   "execution_count": 4,
   "metadata": {},
   "outputs": [
    {
     "name": "stdout",
     "output_type": "stream",
     "text": [
      "\n",
      "Here are all foods listed: \n",
      "\n",
      "\n",
      "Ryan's favorite foods are: \n",
      "Tacos\n",
      "Tortas\n",
      "Arroz\n",
      "Cheesecake\n",
      "Cupcakes\n",
      "Pie\n",
      "Cookies\n",
      "\n",
      "James's favorite foods are: \n",
      "Meatloaf\n",
      "Beef Stroganoff\n",
      "Chicken Stuffing Broccoli Casserole\n",
      "Crumb Nutty Pie\n",
      "Moon Pie\n",
      "Pink Salad\n",
      "\n",
      "Nate's favorite foods are: \n",
      "Hibachi\n",
      "Mexican\n",
      "Italian\n",
      "Pazooki\n",
      "Red Velvet Cake\n",
      "Pumpkin Pie\n",
      "\n",
      "Tenzin's favorite foods are: \n",
      "Dumplings\n",
      "Naan\n",
      "Tandoori\n",
      "Nachos\n",
      "Empanadas\n",
      "Burrito\n",
      "\n",
      "Dylan's favorite foods are: \n",
      "Fatty Tuna\n",
      "Unagi\n",
      "Crab Roll\n",
      "Miso\n",
      "Potato\n",
      "Wonton\n",
      "\n",
      "Jeong's favorite foods are: \n",
      "Sushi\n",
      "Katsu\n",
      "Ramen\n",
      "KBBQ\n",
      "Stew\n",
      "Porridge\n",
      "K-Chicken\n",
      "Bouncy Cheesecake\n",
      "Ice Cream\n",
      "\n",
      "John's favorite foods are: \n",
      "Sushi\n",
      "Takoyaki\n",
      "Ramen\n",
      "Cheeseburger\n",
      "Crabcake\n",
      "Pie\n",
      "Ice Cream\n",
      "\n",
      "Mike's favorite foods are: \n",
      "Curry\n",
      "Tikka\n",
      "Chana\n",
      "Applepie\n",
      "Pecanpie\n",
      "Carrotcake\n",
      "\n",
      "Sam's favorite foods are: \n",
      "Pizza\n",
      "Wendy's 4 for 4\n",
      "Pasta\n",
      "Hoagies\n",
      "cucumbers\n",
      "avocados\n",
      "tomatoes\n",
      "carrots\n",
      "\n",
      "Kayla's favorite foods are: \n",
      "Ramen\n",
      "Bulgogi\n",
      "HotPot\n",
      "Chocolate\n",
      "WaterGateSalad\n",
      "Icecream\n",
      "\n",
      "Austin's favorite foods are: \n",
      "Ceviche\n",
      "Shrimp Chimichanga\n",
      "Chipolte\n",
      "Chic-Fil-a\n",
      "Nigri\n",
      "Sashimi(Eel)\n",
      "\n",
      "Mohammad's favorite foods are: \n",
      "Pasta\n",
      "Fried Chicken\n",
      "Tacos\n",
      "Chocolate Cake\n",
      "Ice Cream\n",
      "\n",
      "Alex's favorite foods are: \n",
      "tacos\n",
      "pupusas\n",
      "tomales\n",
      "cheesecake\n",
      "ice cream\n",
      "tarimasu\n",
      "gumbo\n",
      "poboy\n",
      "jambalaya\n"
     ]
    }
   ],
   "source": [
    "# Print desserts\n",
    "# dessert_string = \"Ryan's favorite deserts are \"\n",
    "# for dessert in food_dict['Ryan']['Desserts']:\n",
    "#     dessert_string += dessert + \", \"\n",
    "    \n",
    "# print(dessert_string)\n",
    "# dessert_string = \"Ryan's fav desserts are: \"\n",
    "# for dessert in food_dict['Ryan']['Desserts']:\n",
    "#     dessert_string +- dessert + \", \"\n",
    "    \n",
    "print (\"\\nHere are all foods listed: \\n\")\n",
    "for name in food_dict.keys():\n",
    "    print(f\"\\n{name}'s favorite foods are: \")\n",
    "    for food_type in food_dict[name].keys():\n",
    "        for food in food_dict[name][food_type]:\n",
    "            print(food)"
   ]
  },
  {
   "cell_type": "code",
   "execution_count": 70,
   "metadata": {},
   "outputs": [
    {
     "name": "stdout",
     "output_type": "stream",
     "text": [
      "\n",
      "Here are our favorite foods: \n",
      "\n",
      "Latin\n",
      "noodles\n",
      "Breakfast\n",
      "Lunch/dinner\n",
      "Latin\n",
      "Pizza\n",
      "French\n",
      "burritos\n",
      "Latin\n",
      "asian\n",
      "pizza\n",
      "noodles\n",
      "Latin\n",
      "Desserts\n",
      "Fruit\n",
      "Japan\n",
      "Latin\n",
      "Italian\n",
      "Noodles\n",
      "Layne\n",
      "potato\n",
      "Cookies\n",
      "seafood\n",
      "Latin\n",
      "Asain\n",
      "American\n",
      "lunch\n",
      "dinner\n",
      "Fast Food\n",
      "Pizza\n",
      "Latin\n",
      "Asian\n",
      "Noodles\n"
     ]
    }
   ],
   "source": [
    "# Everyone's favorite foods\n",
    "print(\"\\nHere are our favorite foods: \\n\")\n",
    "for name in food_dict.keys():\n",
    "    for food_type in food_dict[name].keys():\n",
    "        print(food_type)"
   ]
  },
  {
   "cell_type": "code",
   "execution_count": 77,
   "metadata": {},
   "outputs": [
    {
     "name": "stdout",
     "output_type": "stream",
     "text": [
      "\n",
      "Here are all foods listed: \n",
      "\n",
      "\n",
      "Terrell's favorite foods are:\n",
      "Tacos\n",
      "Arepa\n",
      "Empanadas\n",
      "instant\n",
      "Pho\n",
      "Ramen\n",
      "\n",
      "Matt's favorite foods are:\n",
      "Waffles\n",
      "Pancakes\n",
      "Pizza\n",
      "Steak\n",
      "Cheeseburgers\n",
      "\n",
      "Kevin's favorite foods are:\n",
      "Tacos\n",
      "Burritos\n",
      "Flautas\n",
      "Deep Dish\n",
      "Thin Crust\n",
      "Detroit\n",
      "\n",
      "Alex's favorite foods are:\n",
      "Tacos\n",
      "omelet\n",
      "burgers\n",
      "cheese\n",
      "magnets\n",
      "milksteak\n",
      "\n",
      "Chris's favorite foods are:\n",
      "burrito\n",
      "tacos\n",
      "pho\n",
      "ramen\n",
      "dumplings\n",
      "\n",
      "Thomas's favorite foods are:\n",
      "cheese\n",
      "meatza\n",
      "bbq\n",
      "ramen\n",
      "angel hair\n",
      "\n",
      "Ryan's favorite foods are:\n",
      "Tacos\n",
      "Tacos\n",
      "Tacos\n",
      "pie\n",
      "ice cream\n",
      "cookies\n",
      "\n",
      "TwoChe's favorite foods are:\n",
      "Apple\n",
      "Pomegranate \n",
      "Orange\n",
      "Sushi\n",
      "Poke\n",
      "Ramen\n",
      "\n",
      "Ulises's favorite foods are:\n",
      "Tacos\n",
      "Arepa\n",
      "Empanadas\n",
      "Ravioli\n",
      "Milanesas\n",
      "Scaccia\n",
      "Udon\n",
      "Pho\n",
      "Soba\n",
      "Hakka\n",
      "\n",
      "Harley's favorite foods are:\n",
      "Pizza\n",
      "Taco\n",
      "Burger\n",
      "French\n",
      "Fried\n",
      "Mashed\n",
      "\n",
      "Kimbreal's favorite foods are:\n",
      "sugar\n",
      "oatmeal\n",
      "chocalate_chip\n",
      "crab legs\n",
      "shrimp\n",
      "salmon\n",
      "\n",
      "Yesenia's favorite foods are:\n",
      "Tacos\n",
      "Chiles Rellenos\n",
      "Pipian\n",
      "Ramen\n",
      "Pizza\n",
      "Broccoli Cheddar\n",
      "Hamburgers\n",
      "\n",
      "Elijah's favorite foods are:\n",
      "Canes\n",
      "Firehouse\n",
      "Chick-fil-a\n",
      "Pepperoni\n",
      "Sausage\n",
      "Bacon\n",
      "\n",
      "Vincent's favorite foods are:\n",
      "Tacos\n",
      "Burrito\n",
      "Queso\n",
      "Fried Rice\n",
      "Sushi\n",
      "Hot Pot\n",
      "Pho\n",
      "Ramen\n",
      "Instant\n"
     ]
    }
   ],
   "source": [
    "# print all foods\n",
    "print(\"\\nHere are all foods listed: \\n\")\n",
    "for name in food_dict.keys():\n",
    "    print(f\"\\n{name}'s favorite foods are:\")\n",
    "    for food_type in food_dict[name].keys():\n",
    "        for food in food_dict[name][food_type]:\n",
    "            print(food)"
   ]
  },
  {
   "cell_type": "markdown",
   "metadata": {},
   "source": [
    "## Dictionaries vs. Lists (over time) Example of RUNTIME\n",
    "### When inputting values in a Dictionary vs List"
   ]
  },
  {
   "cell_type": "code",
   "execution_count": 5,
   "metadata": {},
   "outputs": [],
   "source": [
    "import time\n",
    "\n",
    "# Generate a dictionary\n",
    "d = {}\n",
    "\n",
    "for i in range(10000000):\n",
    "    d[i] = \"value \"+ str(i)\n",
    "    \n",
    "# Generate a list\n",
    "big_list = [x for x in range(10000000)]"
   ]
  },
  {
   "cell_type": "code",
   "execution_count": 7,
   "metadata": {},
   "outputs": [
    {
     "name": "stdout",
     "output_type": "stream",
     "text": [
      "value 9999999\n",
      "Elapsed time for dictionary: 0.0\n",
      "9999999\n",
      "Elapsed time for list: 1.287369966506958\n",
      "9999999\n",
      "Elapsed time for list with known position: 0.0\n"
     ]
    }
   ],
   "source": [
    "\n",
    "# track the time for the dictionary\n",
    "\n",
    "start_time = time.time()\n",
    "print(d[9999999])\n",
    "\n",
    "end_time = time.time() - start_time\n",
    "print(\"Elapsed time for dictionary: {}\".format(end_time))\n",
    "\n",
    "# Tracking time for the list\n",
    "\n",
    "start_time = time.time()\n",
    "\n",
    "for i in range(len(big_list)):\n",
    "    if i == 9999999:\n",
    "        print(i)\n",
    "        \n",
    "end_time = time.time() - start_time\n",
    "print(\"Elapsed time for list: {}\".format(end_time))\n",
    "        \n",
    "\n",
    "# Tracking time for the list with known position\n",
    "\n",
    "start_time = time.time()\n",
    "print(big_list[-1])\n",
    "        \n",
    "end_time = time.time() - start_time\n",
    "print(\"Elapsed time for list with known position: {}\".format(end_time))"
   ]
  },
  {
   "cell_type": "markdown",
   "metadata": {},
   "source": [
    "## Exercise #3 - Write a Function that asks someone's name and address, and then stores that into a dictionary, and continues to do so until they choose to 'quit'. Once they quit, the program should print all names and addresses. <br>\n",
    "<p>\n",
    "<b>Proper steps:</b><br>\n",
    "step 1: write a function that takes in information and stores it in a dictionary<br>\n",
    "step 2: define an empty dictionary to work with<br>\n",
    "step 3: create our loop, which asks the user for information until they quit<br>\n",
    "step 4: ask for the information, and store it into variables<br>\n",
    "step 5: check if the user types quit<br>\n",
    "step 5a: print out all information<br>\n",
    "step 5b: break out of the loop<br>\n",
    "step 6: if they didn't quit, add the information to the dictionary<br>\n",
    "step 7: invoke the function by calling it\n",
    "</p>"
   ]
  },
  {
   "cell_type": "code",
   "execution_count": null,
   "metadata": {},
   "outputs": [],
   "source": [
    "from IPython.display import clear_output\n",
    "\n",
    "# Step 1\n",
    "def storeInfo():\n",
    "    d = {} # Step 2\n",
    "    \n",
    "    # Step 3\n",
    "    while True:\n",
    "        # Step 4\n",
    "        name = input(\"Enter a name or say 'quit' to quit: \")\n",
    "        if name.lower() != 'quit':\n",
    "            address = input(\"Enter an address or say 'quit' to quit: \")\n",
    "            clear_output()\n",
    "        \n",
    "        # Step 5\n",
    "        if name.lower() == 'quit' or address.lower() == 'quit':\n",
    "            # Step 5a\n",
    "            for key,value in d.items():\n",
    "                print(f\"The address for {key} is {value}.\")\n",
    "            break #Step 5b\n",
    "            \n",
    "        d[name] = address #Step 6\n",
    "        \n",
    "# Step 7\n",
    "storeInfo()"
   ]
  },
  {
   "cell_type": "markdown",
   "metadata": {},
   "source": [
    "## Set <br>\n",
    "<p>A Set is an unordered collection data type that is iterable (loop), mutable, and has no duplicate elements.<br>Major advantage is that it is highly optimized in checking if something is in the set, as opposed to checking if something is in a list.</p>"
   ]
  },
  {
   "cell_type": "markdown",
   "metadata": {},
   "source": [
    "##### Declaring"
   ]
  },
  {
   "cell_type": "code",
   "execution_count": 1,
   "metadata": {},
   "outputs": [
    {
     "data": {
      "text/plain": [
       "1"
      ]
     },
     "execution_count": 1,
     "metadata": {},
     "output_type": "execute_result"
    }
   ],
   "source": [
    "d = {\"key\": \"value\"}\n",
    "len(d)"
   ]
  },
  {
   "cell_type": "code",
   "execution_count": 4,
   "metadata": {},
   "outputs": [
    {
     "name": "stdout",
     "output_type": "stream",
     "text": [
      "{8, 1, 4}\n",
      "['__and__', '__class__', '__contains__', '__delattr__', '__dir__', '__doc__', '__eq__', '__format__', '__ge__', '__getattribute__', '__gt__', '__hash__', '__iand__', '__init__', '__init_subclass__', '__ior__', '__isub__', '__iter__', '__ixor__', '__le__', '__len__', '__lt__', '__ne__', '__new__', '__or__', '__rand__', '__reduce__', '__reduce_ex__', '__repr__', '__ror__', '__rsub__', '__rxor__', '__setattr__', '__sizeof__', '__str__', '__sub__', '__subclasshook__', '__xor__', 'add', 'clear', 'copy', 'difference', 'difference_update', 'discard', 'intersection', 'intersection_update', 'isdisjoint', 'issubset', 'issuperset', 'pop', 'remove', 'symmetric_difference', 'symmetric_difference_update', 'union', 'update']\n",
      "3\n"
     ]
    }
   ],
   "source": [
    "# set() or {}\n",
    "# no order {3, 2, 1} outputs as {1, 2, 3}\n",
    "nums = {4,1,8,4}\n",
    "\n",
    "print(nums)\n",
    "print(dir(nums))\n",
    "print(len(nums))\n",
    "\n",
    "# dunder\n",
    "# magic methods"
   ]
  },
  {
   "cell_type": "markdown",
   "metadata": {},
   "source": [
    "##### .add()"
   ]
  },
  {
   "cell_type": "code",
   "execution_count": 5,
   "metadata": {},
   "outputs": [
    {
     "name": "stdout",
     "output_type": "stream",
     "text": [
      "{8, 1, 4, 22}\n"
     ]
    }
   ],
   "source": [
    "# set.add()\n",
    "nums.add(22)\n",
    "\n",
    "print(nums)"
   ]
  },
  {
   "cell_type": "markdown",
   "metadata": {},
   "source": [
    "##### .remove()"
   ]
  },
  {
   "cell_type": "code",
   "execution_count": 6,
   "metadata": {},
   "outputs": [
    {
     "name": "stdout",
     "output_type": "stream",
     "text": [
      "{8, 1, 4}\n"
     ]
    }
   ],
   "source": [
    "# removes by value\n",
    "# set.remove()\n",
    "nums.remove(22)\n",
    "\n",
    "print(nums)"
   ]
  },
  {
   "cell_type": "markdown",
   "metadata": {},
   "source": [
    "\n",
    "##### .union() "
   ]
  },
  {
   "cell_type": "code",
   "execution_count": 7,
   "metadata": {},
   "outputs": [
    {
     "name": "stdout",
     "output_type": "stream",
     "text": [
      "{1, 2, 3, 4, 5, 6}\n",
      "{1, 2, 3, 4, 5, 6}\n"
     ]
    }
   ],
   "source": [
    "# Returns a union of two sets, can also use '|' or set.union(set)\n",
    "# joins all numbers, gets rid of duplicates\n",
    "s1 = {1,2,3,4}\n",
    "s2 = {3,4,5,6}\n",
    "\n",
    "s3 = s1.union(s2)\n",
    "\n",
    "# or\n",
    "\n",
    "s4 = s1 | s2\n",
    "\n",
    "print(s3)\n",
    "print(s4)\n"
   ]
  },
  {
   "cell_type": "markdown",
   "metadata": {},
   "source": [
    "##### .intersection()"
   ]
  },
  {
   "cell_type": "code",
   "execution_count": 8,
   "metadata": {},
   "outputs": [
    {
     "name": "stdout",
     "output_type": "stream",
     "text": [
      "{3, 4}\n",
      "{3, 4}\n"
     ]
    }
   ],
   "source": [
    "# Returns an intersection of two sets, can also use '&'\n",
    "# only takes similar elements from both sets\n",
    "\n",
    "s5 = s1.intersection(s2)\n",
    "\n",
    "# or\n",
    "\n",
    "s6 = s2 & s1\n",
    "\n",
    "print(s5)\n",
    "print(s6)"
   ]
  },
  {
   "cell_type": "markdown",
   "metadata": {},
   "source": [
    "##### .difference()"
   ]
  },
  {
   "cell_type": "code",
   "execution_count": 9,
   "metadata": {},
   "outputs": [
    {
     "name": "stdout",
     "output_type": "stream",
     "text": [
      "{1, 2, 3, 4} {3, 4, 5, 6}\n",
      "{1, 2} {5, 6}\n"
     ]
    }
   ],
   "source": [
    "# Returns a set containing all the elements of invoking set that are not in the second set, can also use '-'\n",
    "# only takes values from the first set that are not in the second set\n",
    "# order matters\n",
    "\n",
    "s7 = s1 - s2\n",
    "\n",
    "# or\n",
    "\n",
    "s8 = s2.difference(s1)\n",
    "print(s1,s2)\n",
    "print(s7,s8)"
   ]
  },
  {
   "cell_type": "markdown",
   "metadata": {},
   "source": [
    "##### .clear()"
   ]
  },
  {
   "cell_type": "code",
   "execution_count": 10,
   "metadata": {},
   "outputs": [
    {
     "name": "stdout",
     "output_type": "stream",
     "text": [
      "set()\n"
     ]
    }
   ],
   "source": [
    "# Empties the whole set\n",
    "# set.clear()\n",
    "s8.clear()\n",
    "print(s8)"
   ]
  },
  {
   "cell_type": "code",
   "execution_count": null,
   "metadata": {},
   "outputs": [],
   "source": []
  },
  {
   "cell_type": "markdown",
   "metadata": {},
   "source": [
    "##### Frozenset <br>\n",
    "<p>Frozen sets are immutable objects that only support methods and operators that produce a result without affecting the frozen set or sets to which they are applied.</p><br><b>Unique & Immutable</b>"
   ]
  },
  {
   "cell_type": "code",
   "execution_count": 13,
   "metadata": {},
   "outputs": [
    {
     "name": "stdout",
     "output_type": "stream",
     "text": [
      "frozenset({1, 2, 3, 4, 5, 6})\n"
     ]
    },
    {
     "ename": "AttributeError",
     "evalue": "'frozenset' object has no attribute 'add'",
     "output_type": "error",
     "traceback": [
      "\u001b[0;31m---------------------------------------------------------------------------\u001b[0m",
      "\u001b[0;31mAttributeError\u001b[0m                            Traceback (most recent call last)",
      "\u001b[0;32m<ipython-input-13-e2ff068df6b1>\u001b[0m in \u001b[0;36m<module>\u001b[0;34m\u001b[0m\n\u001b[1;32m      3\u001b[0m \u001b[0;34m\u001b[0m\u001b[0m\n\u001b[1;32m      4\u001b[0m \u001b[0mprint\u001b[0m\u001b[0;34m(\u001b[0m\u001b[0mmy_frozen_set\u001b[0m\u001b[0;34m)\u001b[0m\u001b[0;34m\u001b[0m\u001b[0;34m\u001b[0m\u001b[0m\n\u001b[0;32m----> 5\u001b[0;31m \u001b[0mmy_frozen_set\u001b[0m\u001b[0;34m.\u001b[0m\u001b[0madd\u001b[0m\u001b[0;34m(\u001b[0m\u001b[0;36m22\u001b[0m\u001b[0;34m)\u001b[0m\u001b[0;34m\u001b[0m\u001b[0;34m\u001b[0m\u001b[0m\n\u001b[0m",
      "\u001b[0;31mAttributeError\u001b[0m: 'frozenset' object has no attribute 'add'"
     ]
    }
   ],
   "source": [
    "# frozenset([])\n",
    "my_frozen_set = frozenset(s3)\n",
    "\n",
    "print(my_frozen_set)\n",
    "my_frozen_set.add(22)"
   ]
  },
  {
   "cell_type": "markdown",
   "metadata": {},
   "source": [
    "## Modules"
   ]
  },
  {
   "cell_type": "markdown",
   "metadata": {},
   "source": [
    "##### Importing Entire Modules"
   ]
  },
  {
   "cell_type": "code",
   "execution_count": 19,
   "metadata": {},
   "outputs": [
    {
     "name": "stdout",
     "output_type": "stream",
     "text": [
      "3.141592653589793\n",
      "4\n"
     ]
    }
   ],
   "source": [
    "# import \n",
    "# or \n",
    "# from 'xxx' import *\n",
    "import math\n",
    "\n",
    "print(math.pi)\n",
    "\n",
    "print(math.ceil(math.pi))"
   ]
  },
  {
   "cell_type": "markdown",
   "metadata": {},
   "source": [
    "##### Importing Methods Only"
   ]
  },
  {
   "cell_type": "code",
   "execution_count": 20,
   "metadata": {},
   "outputs": [
    {
     "name": "stdout",
     "output_type": "stream",
     "text": [
      "3\n"
     ]
    }
   ],
   "source": [
    "# from 'xxx' import 'xxx'\n",
    "from math import floor, pi\n",
    "print(floor(pi))"
   ]
  },
  {
   "cell_type": "markdown",
   "metadata": {},
   "source": [
    "##### Using the 'as' Keyword"
   ]
  },
  {
   "cell_type": "code",
   "execution_count": 23,
   "metadata": {},
   "outputs": [
    {
     "name": "stdout",
     "output_type": "stream",
     "text": [
      "3\n"
     ]
    }
   ],
   "source": [
    "# from 'xxx' import 'xxx' as 'xxx' or import 'xxx' as 'xxx'\n",
    "from math import floor as f, pi as p\n",
    "\n",
    "print(f(p))\n"
   ]
  },
  {
   "cell_type": "markdown",
   "metadata": {},
   "source": [
    "##### Creating a Module"
   ]
  },
  {
   "cell_type": "code",
   "execution_count": 8,
   "metadata": {},
   "outputs": [
    {
     "name": "stdout",
     "output_type": "stream",
     "text": [
      "Hello Mr/Ms Terrell...we've been waiting for you!\n"
     ]
    }
   ],
   "source": [
    "from files.module import printName as cheesecake\n",
    "\n",
    "cheesecake(\"Terrell\")"
   ]
  },
  {
   "cell_type": "markdown",
   "metadata": {},
   "source": [
    "# Exercises"
   ]
  },
  {
   "cell_type": "markdown",
   "metadata": {},
   "source": [
    "### 1) Build a Shopping Cart <br>\n",
    "<p><b>You can use either lists or dictionaries. The program should have the following capabilities:</b><br><br>\n",
    "1) Takes in input <br>\n",
    "2) Stores user input into a dictionary or list <br>\n",
    "3) The User can add or delete items <br>\n",
    "4) The User can see current shopping list <br>\n",
    "5) The program Loops until user 'quits' <br>\n",
    "6) Upon quiting the program, print out all items in the user's list <br>\n",
    "</p>"
   ]
  },
  {
   "cell_type": "code",
   "execution_count": null,
   "metadata": {},
   "outputs": [],
   "source": [
    "from IPython.display import clear_output\n",
    "\n",
    "# Ask the user four bits of input: Do you want to : Show/Add/Delete or Quit?\n"
   ]
  },
  {
   "cell_type": "markdown",
   "metadata": {},
   "source": [
    "### 2) Create a Module in VS Code and Import It into jupyter notebook <br>\n",
    "<p><b>Module should have the following capabilities:</b><br><br>\n",
    "1) Has a function to calculate the square footage of a house <br>\n",
    "    <b>Reminder of Formula: Length X Width == Area<br>\n",
    "        <hr>\n",
    "2) Has a function to calculate the circumference of a circle <br><br>\n",
    "<b>Program in Jupyter Notebook should take in user input and use imported functions to calculate a circle's circumference or a houses square footage</b>\n",
    "</p>"
   ]
  },
  {
   "cell_type": "code",
   "execution_count": null,
   "metadata": {},
   "outputs": [],
   "source": []
  }
 ],
 "metadata": {
  "kernelspec": {
   "display_name": "Python 3 (ipykernel)",
   "language": "python",
   "name": "python3"
  },
  "language_info": {
   "codemirror_mode": {
    "name": "ipython",
    "version": 3
   },
   "file_extension": ".py",
   "mimetype": "text/x-python",
   "name": "python",
   "nbconvert_exporter": "python",
   "pygments_lexer": "ipython3",
   "version": "3.9.13"
  }
 },
 "nbformat": 4,
 "nbformat_minor": 2
}
